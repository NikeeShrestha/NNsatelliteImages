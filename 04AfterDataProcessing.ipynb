{
 "cells": [
  {
   "cell_type": "code",
   "execution_count": 1,
   "id": "228fc82a-899c-4ec2-a3c4-9405d8420e91",
   "metadata": {
    "tags": []
   },
   "outputs": [],
   "source": [
    "import rasterio\n",
    "from osgeo import gdal, ogr\n",
    "from PIL import Image\n",
    "import cv2 as cv\n",
    "import glob\n",
    "import os\n",
    "import sys\n",
    "import pandas as pd\n",
    "import matplotlib.pyplot as plt\n",
    "from sklearn.decomposition import PCA\n",
    "import numpy as np\n",
    "from sklearn.metrics import r2_score\n",
    "from scipy.stats import pearsonr\n",
    "import random"
   ]
  },
  {
   "cell_type": "code",
   "execution_count": 3,
   "id": "c46c1b80-14c8-4959-acca-48ae1cfa17f0",
   "metadata": {
    "tags": []
   },
   "outputs": [
    {
     "data": {
      "text/plain": [
       "row\n",
       "46    34\n",
       "45    34\n",
       "44    34\n",
       "43    34\n",
       "42    34\n",
       "16    22\n",
       "20    22\n",
       "19    22\n",
       "18    22\n",
       "17    22\n",
       "2     22\n",
       "3     22\n",
       "14    22\n",
       "13    22\n",
       "9     22\n",
       "8     22\n",
       "7     22\n",
       "6     22\n",
       "5     22\n",
       "4     22\n",
       "15    22\n",
       "Name: count, dtype: int64"
      ]
     },
     "execution_count": 3,
     "metadata": {},
     "output_type": "execute_result"
    }
   ],
   "source": [
    "Hipsdf=pd.read_csv(\"/home/schnablelab/Documents/NNSatelliteImages/Data/HYBRID_HIPS_V3.5_ALLPLOTS.csv\", sep=\",\")\n",
    "Hipsdf=Hipsdf.loc[Hipsdf[\"location\"]==\"Crawfordsville\",]\n",
    "Hipsdf.columns\n",
    "Hipsdf[\"row\"].value_counts()"
   ]
  },
  {
   "cell_type": "code",
   "execution_count": 293,
   "id": "4820ba8f-f591-4566-a2f2-a9d1eec6ead1",
   "metadata": {
    "tags": []
   },
   "outputs": [
    {
     "ename": "ValueError",
     "evalue": "invalid literal for int() with base 10: 'hybrids'",
     "output_type": "error",
     "traceback": [
      "\u001b[0;31m---------------------------------------------------------------------------\u001b[0m",
      "\u001b[0;31mValueError\u001b[0m                                Traceback (most recent call last)",
      "Cell \u001b[0;32mIn[293], line 3\u001b[0m\n\u001b[1;32m      1\u001b[0m \u001b[38;5;28;01mfor\u001b[39;00m index1, row1 \u001b[38;5;129;01min\u001b[39;00m RGBvalues\u001b[38;5;241m.\u001b[39miterrows():\n\u001b[1;32m      2\u001b[0m     file\u001b[38;5;241m=\u001b[39mrow1[\u001b[38;5;124m'\u001b[39m\u001b[38;5;124mfield\u001b[39m\u001b[38;5;124m'\u001b[39m]\n\u001b[0;32m----> 3\u001b[0m     field\u001b[38;5;241m=\u001b[39m\u001b[38;5;28mint\u001b[39m(file\u001b[38;5;241m.\u001b[39msplit(\u001b[38;5;124m\"\u001b[39m\u001b[38;5;124m-\u001b[39m\u001b[38;5;124m\"\u001b[39m)[\u001b[38;5;241m2\u001b[39m])\n\u001b[1;32m      4\u001b[0m     \u001b[38;5;28;01mtry\u001b[39;00m:\n\u001b[1;32m      5\u001b[0m         range1 \u001b[38;5;241m=\u001b[39m \u001b[38;5;28mint\u001b[39m(row1[\u001b[38;5;124m\"\u001b[39m\u001b[38;5;124mrange\u001b[39m\u001b[38;5;124m\"\u001b[39m])\n",
      "\u001b[0;31mValueError\u001b[0m: invalid literal for int() with base 10: 'hybrids'"
     ]
    }
   ],
   "source": [
    "RGBvalues=pd.read_csv(\"/home/schnablelab/Documents/NNSatelliteImages/RGBvalues_satellite_TP6_afteroutliers.csv\")\n",
    "RGBvalues['file_'] = RGBvalues['file_'].str.replace('V2', '')\n",
    "RGBvalues[['field', 'range', 'row']]=RGBvalues[\"file_\"].str.split('_', expand=True)\n",
    "\n",
    "# Rename the columns using the dictionary\n",
    "RGBvalues = RGBvalues.rename(columns=new_column_names)\n",
    "\n",
    "\n",
    "Hipsdf=pd.read_csv(\"/home/schnablelab/Documents/NNSatelliteImages/Data/HYBRID_HIPS_V3.5_ALLPLOTS.csv\", sep=\",\")\n",
    "Hipsdf=Hipsdf.loc[Hipsdf[\"location\"]==\"Crawfordsville\",]\n",
    "Hipsdf.columns\n",
    "Hipsdf[\"row\"].value_counts()\n",
    "\n",
    "for index1, row1 in RGBvalues.iterrows():\n",
    "    file=row1['field']\n",
    "    field=int(file.split(\"-\")[2])\n",
    "    try:\n",
    "        range1 = int(row1[\"range\"])\n",
    "    except ValueError:\n",
    "        print(f\"Unable to convert 'range1' for index {index1} to an integer.\")\n",
    "        continue\n",
    "    rownum=int(row1[\"row\"])\n",
    "            \n",
    "    \n",
    "    for index2, row2 in Hipsdf.iterrows():\n",
    "        field2=int(row2[\"experiment\"].split(\"_\")[1])\n",
    "        range2=row2[\"range\"]\n",
    "        row_2=row2[\"row\"]\n",
    "        \n",
    "        if field==field2 and range1==range2 and rownum==row_2:\n",
    "            RGBvalues.at[index1, \"plantDensity\"]=row2[\"plantDensity\"]\n",
    "            RGBvalues.at[index1, 'combineYield']=row2[\"combineYield\"]\n",
    "            RGBvalues.at[index1, 'yieldPerAcre']=row2[\"yieldPerAcre\"]\n",
    "            RGBvalues.at[index1, 'totalStandCount']=row2[\"totalStandCount\"]\n",
    "            RGBvalues.at[index1, 'daysToAnthesis']=row2[\"daysToAnthesis\"]\n",
    "            RGBvalues.at[index1, 'GDDToAnthesis']=row2[\"GDDToAnthesis\"]\n",
    "            RGBvalues.at[index1, 'daysToSilk']=row2[\"daysToSilk\"]\n",
    "            RGBvalues.at[index1, 'GDDToSilk']=row2[\"GDDToSilk\"]\n",
    "            RGBvalues.at[index1, 'percentMoisture']=row2[\"percentMoisture\"]\n",
    "            RGBvalues.at[index1, 'percentStarch']=row2[\"percentStarch\"]\n",
    "            RGBvalues.at[index1, 'percentProtein']=row2[\"percentProtein\"]\n",
    "            RGBvalues.at[index1, 'percentOil']=row2[\"percentOil\"]\n",
    "            RGBvalues.at[index1, 'percentFiber']=row2[\"percentFiber\"]\n",
    "            RGBvalues.at[index1, 'percentAsh']=row2[\"percentAsh\"]\n",
    "            RGBvalues.at[index1, 'percentLodging']=row2[\"percentLodging\"]\n",
    "            RGBvalues.at[index1, 'flagLeafHeight']=row2[\"flagLeafHeight\"]\n",
    "\n",
    "RGBvalues[['location','Timepoint','exp']]=RGBvalues[\"field\"].str.split('-', expand=True)          \n",
    "RGBvalues.to_csv(\"Data/Crawfordsville/Satelliteimages/rgb/RGBsatellite_Crawfordsville_TP6.csv\", index=0)"
   ]
  },
  {
   "cell_type": "code",
   "execution_count": 287,
   "id": "b9a482d7-e9e7-461f-ac13-9134fb9719d5",
   "metadata": {
    "tags": []
   },
   "outputs": [
    {
     "name": "stdout",
     "output_type": "stream",
     "text": [
      "15\n"
     ]
    }
   ],
   "source": [
    "new_column_names=RGBvalues.columns[[13,14,15,16,27,28,1,2,3,4,5,6,10,11,12]]\n",
    "print(len(new_column_names))"
   ]
  },
  {
   "cell_type": "code",
   "execution_count": null,
   "id": "7a5e7afc-032a-4f74-ac17-46420f27b96d",
   "metadata": {},
   "outputs": [],
   "source": [
    "TP=\"TP3\"\n",
    "location=\"Crawfordsville\"\n",
    "\n",
    "features=RGBvalues.columns\n",
    "\n",
    "pattern=['mean', 'median', 'sum']\n",
    "xaxis=[]\n",
    "for i in pattern:\n",
    "    for f in features:\n",
    "        if i in f:\n",
    "            xaxis.append(f)\n",
    "print(xaxis)\n",
    "\n",
    "new_column_names=['plantDensity','combineYield','yieldPerAcre','totalStandCount','percentLodging','flagLeafHeight'] ##depenpend variables you want see correlation\n",
    "print(len(new_column_names))\n",
    "\n",
    "for x in xaxis:\n",
    "    fig = plt.figure(figsize=(20,20))\n",
    "\n",
    "    num=1\n",
    "    for i in new_column_names:\n",
    "        myax=fig.add_subplot(3,2,num)\n",
    "        RGBvalues_plotting=RGBvalues[[str(x), i]]\n",
    "        \n",
    "        RGBvalues_plotting=RGBvalues_plotting.dropna()\n",
    "        myax.scatter(RGBvalues_plotting[str(x)], RGBvalues_plotting[i], color='red', alpha=1)\n",
    "        \n",
    "        r, pval = pearsonr(RGBvalues_plotting[str(x)].tolist(),RGBvalues_plotting[i].tolist())\n",
    "        r2 =r**2\n",
    "        myax.annotate(\"r2 = {:.3f}\".format(r2), (min(RGBvalues_plotting[str(x)]), max(RGBvalues_plotting[i])), size=12)\n",
    "        myax.set_xlabel(str(x),fontsize=24)\n",
    "        myax.set_ylabel(i, fontsize=24)\n",
    "\n",
    "    #     plt.xlim(24900,25000)\n",
    "    #     plt.title(str(i))\n",
    "        if num==6: break\n",
    "        num+=1\n",
    "    plt.savefig(\"Plots/Crawfordsville/UAV/\"+TP+\"/\"+str(x)+\"_\"+TP+\"_\"+location+\".png\")"
   ]
  },
  {
   "cell_type": "code",
   "execution_count": null,
   "id": "4abc2ff3-7a64-4278-a8c0-9b702f51a48b",
   "metadata": {},
   "outputs": [],
   "source": [
    "pca = PCA(n_components=3)\n",
    "embedding = pca.fit_transform(RGBvalues[[\"Red_mean\", \"Green_mean\", \"Blue_mean\", \"NIR_mean\", \"RedEdge_mean\", \"DeepBlue_mean\"]].T)\n",
    "PCAdf=pd.DataFrame(pca.components_.T)\n",
    "PCAdf.columns=[[\"PC1\", \"PC2\", \"PC3\"]]\n",
    "RGBvalues=pd.concat([RGBvalues, PCAdf], axis=1)\n",
    "new_column_names = {('PC1',): \"PC1mean\",('PC2',): \"PC2mean\",('PC3',): \"PC3mean\"}"
   ]
  }
 ],
 "metadata": {
  "kernelspec": {
   "display_name": "Python 3 (ipykernel)",
   "language": "python",
   "name": "python3"
  },
  "language_info": {
   "codemirror_mode": {
    "name": "ipython",
    "version": 3
   },
   "file_extension": ".py",
   "mimetype": "text/x-python",
   "name": "python",
   "nbconvert_exporter": "python",
   "pygments_lexer": "ipython3",
   "version": "3.11.4"
  }
 },
 "nbformat": 4,
 "nbformat_minor": 5
}
