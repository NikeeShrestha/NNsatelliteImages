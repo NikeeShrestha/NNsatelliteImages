{
 "cells": [
  {
   "cell_type": "code",
   "execution_count": 2,
   "id": "02a3dd7d-baf0-494c-8d64-e040e4194739",
   "metadata": {
    "tags": []
   },
   "outputs": [],
   "source": [
    "import pandas as pd\n",
    "import numpy as np\n",
    "import cv2 as cv\n",
    "import matplotlib.pyplot as plt\n",
    "import seaborn as sns\n",
    "import math"
   ]
  },
  {
   "cell_type": "code",
   "execution_count": 3,
   "id": "c5d91db2-9783-4eed-b52e-bd94aff8544a",
   "metadata": {
    "tags": []
   },
   "outputs": [],
   "source": [
    "location=\"Missouri Valley\"\n",
    "Hipsdf=pd.read_csv(\"/home/schnablelab/Documents/NNSatelliteImages/Data/HYBRID_HIPS_V3.5_ALLPLOTS.csv\", sep=\",\")"
   ]
  },
  {
   "cell_type": "code",
   "execution_count": 4,
   "id": "0d9e684c-b29b-4cda-b489-dc850516a97e",
   "metadata": {
    "tags": []
   },
   "outputs": [
    {
     "data": {
      "text/plain": [
       "Index(['index', 'qrCode', 'location', 'sublocation', 'irrigationProvided',\n",
       "       'nitrogenTreatment', 'poundsOfNitrogenPerAcre', 'experiment',\n",
       "       'plotLength', 'totalStandCount', 'block', 'row', 'range', 'plotNumber',\n",
       "       'genotype', 'plantingDate', 'anthesisDate', 'silkDate',\n",
       "       'daysToAnthesis', 'daysToSilk', 'anthesisSilkingInterval',\n",
       "       'GDDToAnthesis', 'GDDToSilk', 'anthesisSilkingIntervalGDD', 'earHeight',\n",
       "       'flagLeafHeight', 'plantDensity', 'combineYield', 'yieldPerAcre',\n",
       "       'combineMoisture', 'combineTestWeight', 'earLength', 'earFillLength',\n",
       "       'earWidth', 'shelledCobWidth', 'kernelsPerRow', 'kernelRowNumber',\n",
       "       'kernelsPerEar', 'hundredKernelMass', 'kernelMassPerEar',\n",
       "       'shelledCobMass', 'percentMoisture', 'percentStarch', 'percentProtein',\n",
       "       'percentOil', 'percentFiber', 'percentAsh', 'kernelColor',\n",
       "       'percentLodging', 'harvestDate', 'notes', 'rangeRow'],\n",
       "      dtype='object')"
      ]
     },
     "execution_count": 4,
     "metadata": {},
     "output_type": "execute_result"
    }
   ],
   "source": [
    "Hipsdf.columns"
   ]
  },
  {
   "cell_type": "code",
   "execution_count": 5,
   "id": "39242dc1-9884-46a1-ab14-69953a359d8f",
   "metadata": {
    "tags": []
   },
   "outputs": [
    {
     "data": {
      "text/plain": [
       "location\n",
       "North Platte3      638\n",
       "North Platte1      560\n",
       "North Platte2      560\n",
       "Ames               536\n",
       "Lincoln            532\n",
       "Scottsbluff        525\n",
       "Crawfordsville     522\n",
       "Missouri Valley    176\n",
       "Name: count, dtype: int64"
      ]
     },
     "execution_count": 5,
     "metadata": {},
     "output_type": "execute_result"
    }
   ],
   "source": [
    "Hipsdf[\"location\"].value_counts()"
   ]
  },
  {
   "cell_type": "code",
   "execution_count": 6,
   "id": "ea149f8b-0db4-414b-b1a3-12066439851b",
   "metadata": {
    "tags": []
   },
   "outputs": [
    {
     "data": {
      "text/html": [
       "<div>\n",
       "<style scoped>\n",
       "    .dataframe tbody tr th:only-of-type {\n",
       "        vertical-align: middle;\n",
       "    }\n",
       "\n",
       "    .dataframe tbody tr th {\n",
       "        vertical-align: top;\n",
       "    }\n",
       "\n",
       "    .dataframe thead th {\n",
       "        text-align: right;\n",
       "    }\n",
       "</style>\n",
       "<table border=\"1\" class=\"dataframe\">\n",
       "  <thead>\n",
       "    <tr style=\"text-align: right;\">\n",
       "      <th></th>\n",
       "      <th>index</th>\n",
       "      <th>qrCode</th>\n",
       "      <th>location</th>\n",
       "      <th>sublocation</th>\n",
       "      <th>irrigationProvided</th>\n",
       "      <th>nitrogenTreatment</th>\n",
       "      <th>poundsOfNitrogenPerAcre</th>\n",
       "      <th>experiment</th>\n",
       "      <th>plotLength</th>\n",
       "      <th>totalStandCount</th>\n",
       "      <th>...</th>\n",
       "      <th>percentStarch</th>\n",
       "      <th>percentProtein</th>\n",
       "      <th>percentOil</th>\n",
       "      <th>percentFiber</th>\n",
       "      <th>percentAsh</th>\n",
       "      <th>kernelColor</th>\n",
       "      <th>percentLodging</th>\n",
       "      <th>harvestDate</th>\n",
       "      <th>notes</th>\n",
       "      <th>rangeRow</th>\n",
       "    </tr>\n",
       "  </thead>\n",
       "  <tbody>\n",
       "    <tr>\n",
       "      <th>1590</th>\n",
       "      <td>1480</td>\n",
       "      <td>MV$HYBRID-HIPS$REP2$PLOT1$ROW23$RANGE24$PHP02 ...</td>\n",
       "      <td>Missouri Valley</td>\n",
       "      <td>Missouri Valley</td>\n",
       "      <td>0.0</td>\n",
       "      <td>Medium</td>\n",
       "      <td>175</td>\n",
       "      <td>LC_4211</td>\n",
       "      <td>17.5</td>\n",
       "      <td>63.0</td>\n",
       "      <td>...</td>\n",
       "      <td>67.94</td>\n",
       "      <td>7.83</td>\n",
       "      <td>4.13</td>\n",
       "      <td>1.08</td>\n",
       "      <td>1.10</td>\n",
       "      <td>yellow</td>\n",
       "      <td>0.00</td>\n",
       "      <td>2022-10-11</td>\n",
       "      <td>NaN</td>\n",
       "      <td>24-23</td>\n",
       "    </tr>\n",
       "    <tr>\n",
       "      <th>1591</th>\n",
       "      <td>1481</td>\n",
       "      <td>MV$HYBRID-HIPS$REP2$PLOT2$ROW25$RANGE24$PHW52 ...</td>\n",
       "      <td>Missouri Valley</td>\n",
       "      <td>Missouri Valley</td>\n",
       "      <td>0.0</td>\n",
       "      <td>Medium</td>\n",
       "      <td>175</td>\n",
       "      <td>LC_4211</td>\n",
       "      <td>17.5</td>\n",
       "      <td>46.0</td>\n",
       "      <td>...</td>\n",
       "      <td>68.09</td>\n",
       "      <td>8.32</td>\n",
       "      <td>3.99</td>\n",
       "      <td>1.25</td>\n",
       "      <td>1.21</td>\n",
       "      <td>yellow</td>\n",
       "      <td>6.52</td>\n",
       "      <td>2022-10-11</td>\n",
       "      <td>NaN</td>\n",
       "      <td>24-25</td>\n",
       "    </tr>\n",
       "    <tr>\n",
       "      <th>1592</th>\n",
       "      <td>1482</td>\n",
       "      <td>MV$HYBRID-HIPS$REP2$PLOT3$ROW27$RANGE24$2369 X...</td>\n",
       "      <td>Missouri Valley</td>\n",
       "      <td>Missouri Valley</td>\n",
       "      <td>0.0</td>\n",
       "      <td>Medium</td>\n",
       "      <td>175</td>\n",
       "      <td>LC_4211</td>\n",
       "      <td>17.5</td>\n",
       "      <td>56.0</td>\n",
       "      <td>...</td>\n",
       "      <td>68.97</td>\n",
       "      <td>8.35</td>\n",
       "      <td>3.95</td>\n",
       "      <td>0.95</td>\n",
       "      <td>1.05</td>\n",
       "      <td>orange</td>\n",
       "      <td>0.00</td>\n",
       "      <td>2022-10-11</td>\n",
       "      <td>NaN</td>\n",
       "      <td>24-27</td>\n",
       "    </tr>\n",
       "    <tr>\n",
       "      <th>1593</th>\n",
       "      <td>1483</td>\n",
       "      <td>MV$HYBRID-HIPS$REP2$PLOT4$ROW29$RANGE24$PHG39 ...</td>\n",
       "      <td>Missouri Valley</td>\n",
       "      <td>Missouri Valley</td>\n",
       "      <td>0.0</td>\n",
       "      <td>Medium</td>\n",
       "      <td>175</td>\n",
       "      <td>LC_4211</td>\n",
       "      <td>17.5</td>\n",
       "      <td>57.0</td>\n",
       "      <td>...</td>\n",
       "      <td>69.29</td>\n",
       "      <td>6.95</td>\n",
       "      <td>3.94</td>\n",
       "      <td>1.30</td>\n",
       "      <td>1.18</td>\n",
       "      <td>yellow</td>\n",
       "      <td>8.77</td>\n",
       "      <td>2022-10-11</td>\n",
       "      <td>NaN</td>\n",
       "      <td>24-29</td>\n",
       "    </tr>\n",
       "    <tr>\n",
       "      <th>1594</th>\n",
       "      <td>1484</td>\n",
       "      <td>MV$HYBRID-HIPS$REP2$PLOT5$ROW23$RANGE25$LH198 ...</td>\n",
       "      <td>Missouri Valley</td>\n",
       "      <td>Missouri Valley</td>\n",
       "      <td>0.0</td>\n",
       "      <td>Medium</td>\n",
       "      <td>175</td>\n",
       "      <td>LC_4211</td>\n",
       "      <td>17.5</td>\n",
       "      <td>56.0</td>\n",
       "      <td>...</td>\n",
       "      <td>66.72</td>\n",
       "      <td>10.44</td>\n",
       "      <td>4.26</td>\n",
       "      <td>1.32</td>\n",
       "      <td>1.13</td>\n",
       "      <td>yellow</td>\n",
       "      <td>3.57</td>\n",
       "      <td>2022-10-11</td>\n",
       "      <td>NaN</td>\n",
       "      <td>25-23</td>\n",
       "    </tr>\n",
       "    <tr>\n",
       "      <th>...</th>\n",
       "      <td>...</td>\n",
       "      <td>...</td>\n",
       "      <td>...</td>\n",
       "      <td>...</td>\n",
       "      <td>...</td>\n",
       "      <td>...</td>\n",
       "      <td>...</td>\n",
       "      <td>...</td>\n",
       "      <td>...</td>\n",
       "      <td>...</td>\n",
       "      <td>...</td>\n",
       "      <td>...</td>\n",
       "      <td>...</td>\n",
       "      <td>...</td>\n",
       "      <td>...</td>\n",
       "      <td>...</td>\n",
       "      <td>...</td>\n",
       "      <td>...</td>\n",
       "      <td>...</td>\n",
       "      <td>...</td>\n",
       "      <td>...</td>\n",
       "    </tr>\n",
       "    <tr>\n",
       "      <th>1761</th>\n",
       "      <td>3</td>\n",
       "      <td>NaN</td>\n",
       "      <td>Missouri Valley</td>\n",
       "      <td>NaN</td>\n",
       "      <td>NaN</td>\n",
       "      <td>NaN</td>\n",
       "      <td>0</td>\n",
       "      <td>LC_4211</td>\n",
       "      <td>NaN</td>\n",
       "      <td>NaN</td>\n",
       "      <td>...</td>\n",
       "      <td>NaN</td>\n",
       "      <td>NaN</td>\n",
       "      <td>NaN</td>\n",
       "      <td>NaN</td>\n",
       "      <td>NaN</td>\n",
       "      <td>NaN</td>\n",
       "      <td>NaN</td>\n",
       "      <td>NaN</td>\n",
       "      <td>NaN</td>\n",
       "      <td>21-23</td>\n",
       "    </tr>\n",
       "    <tr>\n",
       "      <th>1762</th>\n",
       "      <td>4</td>\n",
       "      <td>NaN</td>\n",
       "      <td>Missouri Valley</td>\n",
       "      <td>NaN</td>\n",
       "      <td>NaN</td>\n",
       "      <td>NaN</td>\n",
       "      <td>0</td>\n",
       "      <td>LC_4211</td>\n",
       "      <td>NaN</td>\n",
       "      <td>NaN</td>\n",
       "      <td>...</td>\n",
       "      <td>NaN</td>\n",
       "      <td>NaN</td>\n",
       "      <td>NaN</td>\n",
       "      <td>NaN</td>\n",
       "      <td>NaN</td>\n",
       "      <td>NaN</td>\n",
       "      <td>NaN</td>\n",
       "      <td>NaN</td>\n",
       "      <td>NaN</td>\n",
       "      <td>28-27</td>\n",
       "    </tr>\n",
       "    <tr>\n",
       "      <th>1763</th>\n",
       "      <td>5</td>\n",
       "      <td>NaN</td>\n",
       "      <td>Missouri Valley</td>\n",
       "      <td>NaN</td>\n",
       "      <td>NaN</td>\n",
       "      <td>NaN</td>\n",
       "      <td>0</td>\n",
       "      <td>LC_4211</td>\n",
       "      <td>NaN</td>\n",
       "      <td>NaN</td>\n",
       "      <td>...</td>\n",
       "      <td>NaN</td>\n",
       "      <td>NaN</td>\n",
       "      <td>NaN</td>\n",
       "      <td>NaN</td>\n",
       "      <td>NaN</td>\n",
       "      <td>NaN</td>\n",
       "      <td>NaN</td>\n",
       "      <td>NaN</td>\n",
       "      <td>NaN</td>\n",
       "      <td>31-27</td>\n",
       "    </tr>\n",
       "    <tr>\n",
       "      <th>1764</th>\n",
       "      <td>6</td>\n",
       "      <td>NaN</td>\n",
       "      <td>Missouri Valley</td>\n",
       "      <td>NaN</td>\n",
       "      <td>NaN</td>\n",
       "      <td>NaN</td>\n",
       "      <td>0</td>\n",
       "      <td>LC_4211</td>\n",
       "      <td>NaN</td>\n",
       "      <td>NaN</td>\n",
       "      <td>...</td>\n",
       "      <td>NaN</td>\n",
       "      <td>NaN</td>\n",
       "      <td>NaN</td>\n",
       "      <td>NaN</td>\n",
       "      <td>NaN</td>\n",
       "      <td>NaN</td>\n",
       "      <td>NaN</td>\n",
       "      <td>NaN</td>\n",
       "      <td>NaN</td>\n",
       "      <td>36-27</td>\n",
       "    </tr>\n",
       "    <tr>\n",
       "      <th>1765</th>\n",
       "      <td>7</td>\n",
       "      <td>NaN</td>\n",
       "      <td>Missouri Valley</td>\n",
       "      <td>NaN</td>\n",
       "      <td>NaN</td>\n",
       "      <td>NaN</td>\n",
       "      <td>0</td>\n",
       "      <td>LC_4211</td>\n",
       "      <td>NaN</td>\n",
       "      <td>NaN</td>\n",
       "      <td>...</td>\n",
       "      <td>NaN</td>\n",
       "      <td>NaN</td>\n",
       "      <td>NaN</td>\n",
       "      <td>NaN</td>\n",
       "      <td>NaN</td>\n",
       "      <td>NaN</td>\n",
       "      <td>NaN</td>\n",
       "      <td>NaN</td>\n",
       "      <td>NaN</td>\n",
       "      <td>41-27</td>\n",
       "    </tr>\n",
       "  </tbody>\n",
       "</table>\n",
       "<p>176 rows × 52 columns</p>\n",
       "</div>"
      ],
      "text/plain": [
       "      index                                             qrCode  \\\n",
       "1590   1480  MV$HYBRID-HIPS$REP2$PLOT1$ROW23$RANGE24$PHP02 ...   \n",
       "1591   1481  MV$HYBRID-HIPS$REP2$PLOT2$ROW25$RANGE24$PHW52 ...   \n",
       "1592   1482  MV$HYBRID-HIPS$REP2$PLOT3$ROW27$RANGE24$2369 X...   \n",
       "1593   1483  MV$HYBRID-HIPS$REP2$PLOT4$ROW29$RANGE24$PHG39 ...   \n",
       "1594   1484  MV$HYBRID-HIPS$REP2$PLOT5$ROW23$RANGE25$LH198 ...   \n",
       "...     ...                                                ...   \n",
       "1761      3                                                NaN   \n",
       "1762      4                                                NaN   \n",
       "1763      5                                                NaN   \n",
       "1764      6                                                NaN   \n",
       "1765      7                                                NaN   \n",
       "\n",
       "             location      sublocation  irrigationProvided nitrogenTreatment  \\\n",
       "1590  Missouri Valley  Missouri Valley                 0.0            Medium   \n",
       "1591  Missouri Valley  Missouri Valley                 0.0            Medium   \n",
       "1592  Missouri Valley  Missouri Valley                 0.0            Medium   \n",
       "1593  Missouri Valley  Missouri Valley                 0.0            Medium   \n",
       "1594  Missouri Valley  Missouri Valley                 0.0            Medium   \n",
       "...               ...              ...                 ...               ...   \n",
       "1761  Missouri Valley              NaN                 NaN               NaN   \n",
       "1762  Missouri Valley              NaN                 NaN               NaN   \n",
       "1763  Missouri Valley              NaN                 NaN               NaN   \n",
       "1764  Missouri Valley              NaN                 NaN               NaN   \n",
       "1765  Missouri Valley              NaN                 NaN               NaN   \n",
       "\n",
       "      poundsOfNitrogenPerAcre experiment  plotLength  totalStandCount  ...  \\\n",
       "1590                      175    LC_4211        17.5             63.0  ...   \n",
       "1591                      175    LC_4211        17.5             46.0  ...   \n",
       "1592                      175    LC_4211        17.5             56.0  ...   \n",
       "1593                      175    LC_4211        17.5             57.0  ...   \n",
       "1594                      175    LC_4211        17.5             56.0  ...   \n",
       "...                       ...        ...         ...              ...  ...   \n",
       "1761                        0    LC_4211         NaN              NaN  ...   \n",
       "1762                        0    LC_4211         NaN              NaN  ...   \n",
       "1763                        0    LC_4211         NaN              NaN  ...   \n",
       "1764                        0    LC_4211         NaN              NaN  ...   \n",
       "1765                        0    LC_4211         NaN              NaN  ...   \n",
       "\n",
       "      percentStarch  percentProtein  percentOil  percentFiber percentAsh  \\\n",
       "1590          67.94            7.83        4.13          1.08       1.10   \n",
       "1591          68.09            8.32        3.99          1.25       1.21   \n",
       "1592          68.97            8.35        3.95          0.95       1.05   \n",
       "1593          69.29            6.95        3.94          1.30       1.18   \n",
       "1594          66.72           10.44        4.26          1.32       1.13   \n",
       "...             ...             ...         ...           ...        ...   \n",
       "1761            NaN             NaN         NaN           NaN        NaN   \n",
       "1762            NaN             NaN         NaN           NaN        NaN   \n",
       "1763            NaN             NaN         NaN           NaN        NaN   \n",
       "1764            NaN             NaN         NaN           NaN        NaN   \n",
       "1765            NaN             NaN         NaN           NaN        NaN   \n",
       "\n",
       "     kernelColor percentLodging harvestDate  notes  rangeRow  \n",
       "1590      yellow           0.00  2022-10-11    NaN     24-23  \n",
       "1591      yellow           6.52  2022-10-11    NaN     24-25  \n",
       "1592      orange           0.00  2022-10-11    NaN     24-27  \n",
       "1593      yellow           8.77  2022-10-11    NaN     24-29  \n",
       "1594      yellow           3.57  2022-10-11    NaN     25-23  \n",
       "...          ...            ...         ...    ...       ...  \n",
       "1761         NaN            NaN         NaN    NaN     21-23  \n",
       "1762         NaN            NaN         NaN    NaN     28-27  \n",
       "1763         NaN            NaN         NaN    NaN     31-27  \n",
       "1764         NaN            NaN         NaN    NaN     36-27  \n",
       "1765         NaN            NaN         NaN    NaN     41-27  \n",
       "\n",
       "[176 rows x 52 columns]"
      ]
     },
     "execution_count": 6,
     "metadata": {},
     "output_type": "execute_result"
    }
   ],
   "source": [
    "Hipsdf=Hipsdf.loc[(Hipsdf[\"location\"]==location),]# & (Hipsdf[\"nitrogenTreatment\"]==\"Low\"),]"
   ]
  },
  {
   "cell_type": "code",
   "execution_count": 7,
   "id": "27ecac0a-78c7-46e1-b40f-0df4bf1db3ca",
   "metadata": {
    "tags": []
   },
   "outputs": [
    {
     "data": {
      "text/plain": [
       "experiment\n",
       "LC_4211    176\n",
       "Name: count, dtype: int64"
      ]
     },
     "execution_count": 7,
     "metadata": {},
     "output_type": "execute_result"
    }
   ],
   "source": [
    "Hipsdf['experiment'].value_counts()"
   ]
  },
  {
   "cell_type": "code",
   "execution_count": 8,
   "id": "69000b4b-c8d1-4cce-83fc-8df03b30a16a",
   "metadata": {
    "tags": []
   },
   "outputs": [],
   "source": [
    "Hipsdf=Hipsdf.sort_values(by=[\"range\", \"row\"])\n",
    "# Hipsdf[[\"row\", \"range\",\"yieldPerAcre\"]].to_csv(\"Ames.csv\", index=False)"
   ]
  },
  {
   "cell_type": "code",
   "execution_count": 9,
   "id": "9c78db4f-d8a3-436a-a0d6-7d34f7304db7",
   "metadata": {
    "tags": []
   },
   "outputs": [
    {
     "data": {
      "text/html": [
       "<div>\n",
       "<style scoped>\n",
       "    .dataframe tbody tr th:only-of-type {\n",
       "        vertical-align: middle;\n",
       "    }\n",
       "\n",
       "    .dataframe tbody tr th {\n",
       "        vertical-align: top;\n",
       "    }\n",
       "\n",
       "    .dataframe thead th {\n",
       "        text-align: right;\n",
       "    }\n",
       "</style>\n",
       "<table border=\"1\" class=\"dataframe\">\n",
       "  <thead>\n",
       "    <tr style=\"text-align: right;\">\n",
       "      <th></th>\n",
       "      <th>range</th>\n",
       "      <th>row</th>\n",
       "    </tr>\n",
       "  </thead>\n",
       "  <tbody>\n",
       "    <tr>\n",
       "      <th>count</th>\n",
       "      <td>176.000000</td>\n",
       "      <td>176.000000</td>\n",
       "    </tr>\n",
       "    <tr>\n",
       "      <th>mean</th>\n",
       "      <td>23.500000</td>\n",
       "      <td>26.000000</td>\n",
       "    </tr>\n",
       "    <tr>\n",
       "      <th>std</th>\n",
       "      <td>12.734655</td>\n",
       "      <td>2.242448</td>\n",
       "    </tr>\n",
       "    <tr>\n",
       "      <th>min</th>\n",
       "      <td>2.000000</td>\n",
       "      <td>23.000000</td>\n",
       "    </tr>\n",
       "    <tr>\n",
       "      <th>25%</th>\n",
       "      <td>12.750000</td>\n",
       "      <td>24.500000</td>\n",
       "    </tr>\n",
       "    <tr>\n",
       "      <th>50%</th>\n",
       "      <td>23.500000</td>\n",
       "      <td>26.000000</td>\n",
       "    </tr>\n",
       "    <tr>\n",
       "      <th>75%</th>\n",
       "      <td>34.250000</td>\n",
       "      <td>27.500000</td>\n",
       "    </tr>\n",
       "    <tr>\n",
       "      <th>max</th>\n",
       "      <td>45.000000</td>\n",
       "      <td>29.000000</td>\n",
       "    </tr>\n",
       "  </tbody>\n",
       "</table>\n",
       "</div>"
      ],
      "text/plain": [
       "            range         row\n",
       "count  176.000000  176.000000\n",
       "mean    23.500000   26.000000\n",
       "std     12.734655    2.242448\n",
       "min      2.000000   23.000000\n",
       "25%     12.750000   24.500000\n",
       "50%     23.500000   26.000000\n",
       "75%     34.250000   27.500000\n",
       "max     45.000000   29.000000"
      ]
     },
     "execution_count": 9,
     "metadata": {},
     "output_type": "execute_result"
    }
   ],
   "source": [
    "Hipsdf[['range','row']].describe()"
   ]
  },
  {
   "cell_type": "code",
   "execution_count": 10,
   "id": "40070c56-4634-4906-8faf-f3b79667fdd6",
   "metadata": {
    "tags": []
   },
   "outputs": [
    {
     "name": "stdout",
     "output_type": "stream",
     "text": [
      "44 7\n"
     ]
    }
   ],
   "source": [
    "rows=Hipsdf['range'].max()-Hipsdf['range'].min()+1\n",
    "columns=Hipsdf['row'].max()-Hipsdf['row'].min()+1\n",
    "\n",
    "print(rows,columns)"
   ]
  },
  {
   "cell_type": "code",
   "execution_count": 11,
   "id": "943b2a91-52d2-4fa5-9b16-5c82f1bda3b2",
   "metadata": {
    "tags": []
   },
   "outputs": [
    {
     "data": {
      "text/plain": [
       "array([[ 4, 27],\n",
       "       [13, 25],\n",
       "       [14, 25],\n",
       "       [14, 27],\n",
       "       [15, 23],\n",
       "       [16, 27],\n",
       "       [17, 29],\n",
       "       [20, 29],\n",
       "       [21, 23],\n",
       "       [28, 27],\n",
       "       [31, 27],\n",
       "       [36, 27],\n",
       "       [41, 27]])"
      ]
     },
     "execution_count": 11,
     "metadata": {},
     "output_type": "execute_result"
    }
   ],
   "source": [
    "Hipsdf[Hipsdf['yieldPerAcre'].isnull()][['range','row']].values"
   ]
  },
  {
   "cell_type": "code",
   "execution_count": 12,
   "id": "bab176be-dc5b-4185-8777-43fa022ddd46",
   "metadata": {
    "tags": []
   },
   "outputs": [],
   "source": [
    "import seaborn as sns"
   ]
  },
  {
   "cell_type": "code",
   "execution_count": 12,
   "id": "bb1998b9-acda-4b00-a285-599025a2f386",
   "metadata": {
    "tags": []
   },
   "outputs": [
    {
     "data": {
      "image/png": "[encoded data removed]",
      "text/plain": [
       "<Figure size 640x480 with 2 Axes>"
      ]
     },
     "metadata": {},
     "output_type": "display_data"
    }
   ],
   "source": [
    "##Ames\n",
    "\n",
    "df = np.full((rows*22,columns*11), np.nan)\n",
    "\n",
    "# df = np.zeros((rows*22, columns*11))\n",
    "stop=df.shape[1]\n",
    "start_col=0\n",
    "start_row=0\n",
    "\n",
    "cols_pix=11\n",
    "row_pix=22\n",
    "\n",
    "n=0\n",
    "count=0\n",
    "rowcount=0\n",
    "for trait in Hipsdf.yieldPerAcre.values:\n",
    "    \n",
    "   \n",
    "    # print(trait)\n",
    "    # for row in range(len(Hipsdf.row.unique())):\n",
    "    #     for col in range(len(Hipsdf.range.unique())):\n",
    "    \n",
    "    if math.isnan(trait):\n",
    "        df[start_row:row_pix+1,start_col:cols_pix+1,]=np.nan####( or 0 if I want to assign zero)\n",
    "        count=count+1\n",
    "        # print(count)\n",
    "    else:\n",
    "        df[start_row:row_pix+1,start_col:cols_pix+1]=trait\n",
    "    # print(df[start_row:row_pix, start_col:cols_pix].shape)\n",
    "    rowcount+=1\n",
    "    # print(rowcount)\n",
    "\n",
    "            \n",
    "    start_col=cols_pix\n",
    "    cols_pix+=11\n",
    "    # print(cols_pix)\n",
    "    \n",
    "    if cols_pix==(stop+11):\n",
    "        start_row=row_pix\n",
    "        row_pix+=22\n",
    "        start_col=0\n",
    "        cols_pix=11\n",
    "    n+=1\n",
    "    \n",
    "    # print(start_row, row_pix, start_col, cols_pix)\n",
    "            \n",
    "# print(count)\n",
    "# plt.imshow(df)\n",
    "# plt.savefig('out.png', bbox_inches='tight', pad_inches=0)\n",
    "# print(n)\n",
    "plt.axis('off')\n",
    "# plt.figure(figsize=(10,5))\n",
    "ax=plt.imshow(df,interpolation='nearest', cmap=\"inferno\")\n",
    "colorbar = plt.colorbar(shrink=0.5) \n",
    "# ax.invert_xaxis()\n",
    "# mask=np.isnan(df)\n",
    "# heatmap=sns.heatmap(df, yticklabels=False, xticklabels=False, center=True)\n",
    "# plt.gca().set_aspect(1.2, adjustable='box')\n",
    "# colorbar = plt.colorbar(heatmap,shrink=0.5) \n",
    "plt.savefig('Ames_4233.png', dpi=300, bbox_inches='tight', pad_inches=0)"
   ]
  },
  {
   "cell_type": "code",
   "execution_count": 13,
   "id": "fc43d2ab-1376-472e-9ee8-2f3bcdb197e8",
   "metadata": {
    "tags": []
   },
   "outputs": [
    {
     "name": "stdout",
     "output_type": "stream",
     "text": [
      "1\n",
      "2\n",
      "3\n",
      "4\n",
      "5\n",
      "6\n",
      "7\n",
      "8\n",
      "9\n",
      "10\n",
      "11\n",
      "12\n",
      "13\n",
      "176\n"
     ]
    },
    {
     "data": {
      "image/png": "[encoded data removed]",
      "text/plain": [
       "<Figure size 640x480 with 2 Axes>"
      ]
     },
     "metadata": {},
     "output_type": "display_data"
    }
   ],
   "source": [
    "##Crawfordsville\n",
    "\n",
    "df = np.full((rows*22,columns*11), np.nan)\n",
    "\n",
    "# df = np.zeros((rows*22, columns*11))\n",
    "stop=df.shape[1]\n",
    "start_col=0\n",
    "start_row=0\n",
    "\n",
    "cols_pix=11\n",
    "row_pix=22\n",
    "\n",
    "n=0\n",
    "count=0\n",
    "rowcount=0\n",
    "for trait in Hipsdf.yieldPerAcre.values:\n",
    "    \n",
    "   \n",
    "    # print(trait)\n",
    "    # for row in range(len(Hipsdf.row.unique())):\n",
    "    #     for col in range(len(Hipsdf.range.unique())):\n",
    "    \n",
    "    if math.isnan(trait):\n",
    "        df[start_row:row_pix+1,start_col:cols_pix+1,]=np.nan####( or 0 if I want to assign zero)\n",
    "        count=count+1\n",
    "        print(count)\n",
    "    else:\n",
    "        df[start_row:row_pix+1,start_col:cols_pix+1]=trait\n",
    "    # print(df[start_row:row_pix, start_col:cols_pix].shape)\n",
    "    rowcount+=1\n",
    "    # print(rowcount)\n",
    "\n",
    "            \n",
    "    start_col=cols_pix\n",
    "    cols_pix+=11\n",
    "    # print(cols_pix)\n",
    "    \n",
    "    if cols_pix==(stop+11):\n",
    "        start_row=row_pix\n",
    "        row_pix+=22\n",
    "        start_col=0\n",
    "        cols_pix=11\n",
    "    n+=1\n",
    "    \n",
    "    # print(start_row, row_pix, start_col, cols_pix)\n",
    "            \n",
    "# print(count)\n",
    "# plt.imshow(df)\n",
    "# plt.savefig('out.png', bbox_inches='tight', pad_inches=0)\n",
    "print(n)\n",
    "plt.axis('off')\n",
    "# plt.figure(figsize=(10,5))\n",
    "ax=plt.imshow(df,interpolation='nearest', cmap=\"inferno\")\n",
    "colorbar = plt.colorbar(shrink=0.5) \n",
    "# ax.invert_xaxis()\n",
    "# mask=np.isnan(df)\n",
    "# heatmap=sns.heatmap(df, yticklabels=False, xticklabels=False, center=True)\n",
    "# plt.gca().set_aspect(1.2, adjustable='box')\n",
    "# colorbar = plt.colorbar(heatmap,shrink=0.5) \n",
    "plt.savefig('Crawfordsville_4353.png', dpi=300, bbox_inches='tight', pad_inches=0)"
   ]
  },
  {
   "cell_type": "code",
   "execution_count": 227,
   "id": "be95b08d-0622-48fc-a159-9addbd32b6dd",
   "metadata": {
    "tags": []
   },
   "outputs": [
    {
     "data": {
      "text/plain": [
       "88"
      ]
     },
     "execution_count": 227,
     "metadata": {},
     "output_type": "execute_result"
    }
   ],
   "source": [
    "stop"
   ]
  },
  {
   "cell_type": "code",
   "execution_count": 37,
   "id": "2c2ed070-9922-4aab-b538-651e077c0287",
   "metadata": {
    "tags": []
   },
   "outputs": [
    {
     "name": "stdout",
     "output_type": "stream",
     "text": [
      "176\n"
     ]
    },
    {
     "name": "stderr",
     "output_type": "stream",
     "text": [
      "/tmp/ipykernel_953167/1226893541.py:77: UserWarning: FixedFormatter should only be used together with FixedLocator\n",
      "  cbar.set_ticklabels([round(c) for c in sbarticks])\n"
     ]
    },
    {
     "data": {
      "image/png": "[encoded data removed]",
      "text/plain": [
       "<Figure size 640x480 with 2 Axes>"
      ]
     },
     "metadata": {},
     "output_type": "display_data"
    }
   ],
   "source": [
    "plt.rcParams.update({\n",
    "    \"text.usetex\": True,\n",
    "    \"font.family\": \"sans-serif\",\n",
    "    \"font.sans-serif\": \"Nimbus Sans\",\n",
    "    \"font.size\":12,\n",
    "    'axes.linewidth':2,\n",
    "    'xtick.major.size':5,\n",
    "    'ytick.major.size':5,\n",
    "    'ytick.major.width':2\n",
    "})\n",
    "\n",
    "\n",
    "##Missorurivalley\n",
    "\n",
    "# df = np.full((rows*22,columns*11), np.nan)\n",
    "\n",
    "df = np.zeros((4*11, rows*22))\n",
    "stop=df.shape[1]\n",
    "start_col=0\n",
    "start_row=0\n",
    "\n",
    "cols_pix=22\n",
    "row_pix=11\n",
    "\n",
    "n=0\n",
    "count=0\n",
    "rowcount=0\n",
    "for trait in Hipsdf.yieldPerAcre.values:\n",
    "    \n",
    "   \n",
    "    # print(trait)\n",
    "    # for row in range(len(Hipsdf.row.unique())):\n",
    "    #     for col in range(len(Hipsdf.range.unique())):\n",
    "    \n",
    "    if math.isnan(trait):\n",
    "        df[start_row:row_pix+1,start_col:cols_pix+1,]=np.nan####( or 0 if I want to assign zero)\n",
    "        count=count+1\n",
    "        # print(count)\n",
    "    else:\n",
    "        df[start_row:row_pix+1,start_col:cols_pix+1]=trait\n",
    "    # print(df[start_row:row_pix, start_col:cols_pix].shape)\n",
    "    rowcount+=1\n",
    "    # print(rowcount)\n",
    "\n",
    "            \n",
    "    start_col=cols_pix\n",
    "    cols_pix+=22\n",
    "    # print(cols_pix)\n",
    "    \n",
    "    if cols_pix==(stop+22):\n",
    "        start_row=row_pix\n",
    "        row_pix+=11\n",
    "        start_col=0\n",
    "        cols_pix=22\n",
    "    n+=1\n",
    "    \n",
    "    # print(start_row, row_pix, start_col, cols_pix)\n",
    "            \n",
    "# print(count)\n",
    "# plt.imshow(df)\n",
    "# plt.savefig('out.png', bbox_inches='tight', pad_inches=0)\n",
    "\n",
    "from mpl_toolkits.axes_grid1 import make_axes_locatable\n",
    "print(n)\n",
    "plt.axis('off')\n",
    "# plt.figure(figsize=(10,5))\n",
    "\n",
    "ax = plt.gca()\n",
    "im=plt.imshow(df,interpolation='nearest', cmap=\"inferno\")\n",
    "\n",
    "divider = make_axes_locatable(ax)\n",
    "cax = divider.append_axes(\"bottom\", size=\"35%\", pad=0.1)\n",
    "\n",
    "cbar=plt.colorbar(im,orientation=\"horizontal\", cax=cax) \n",
    "\n",
    "sbarticks=cbar.get_ticks()\n",
    "cbar.set_ticklabels([round(c) for c in sbarticks])\n",
    "# cbar.ax.set_aspect(5)  \n",
    "# mask=np.isnan(df)\n",
    "# heatmap=sns.heatmap(df, yticklabels=False, xticklabels=False, center=True)\n",
    "# plt.gca().set_aspect(1.2, adjustable='box')\n",
    "# colorbar = plt.colorbar(heatmap,shrink=0.5) \n",
    "plt.savefig('Figure2/Movalley_all.svg', dpi=350, bbox_inches='tight')"
   ]
  },
  {
   "cell_type": "code",
   "execution_count": 33,
   "id": "d2e29e2c-1370-4f89-9fb5-1d140d7e23df",
   "metadata": {
    "tags": []
   },
   "outputs": [
    {
     "data": {
      "text/plain": [
       "array([ 80., 100., 120., 140., 160., 180., 200., 220.])"
      ]
     },
     "execution_count": 33,
     "metadata": {},
     "output_type": "execute_result"
    }
   ],
   "source": []
  },
  {
   "cell_type": "code",
   "execution_count": 318,
   "id": "d2318d80-10f4-4190-80c0-1dd9e1bec35c",
   "metadata": {
    "tags": []
   },
   "outputs": [
    {
     "data": {
      "image/png": "[encoded data removed]",
      "text/plain": [
       "<Figure size 640x480 with 2 Axes>"
      ]
     },
     "metadata": {},
     "output_type": "display_data"
    }
   ],
   "source": [
    "##Lincoln\n",
    "\n",
    "df = np.full((rows*11,columns*22), np.nan)\n",
    "\n",
    "\n",
    "stop=df.shape[1]\n",
    "start_col=0\n",
    "start_row=0\n",
    "\n",
    "cols_pix=22\n",
    "row_pix=11\n",
    "\n",
    "n=0\n",
    "count=0\n",
    "rowcount=0\n",
    "for trait in Hipsdf.yieldPerAcre.values:\n",
    "    rowcount+=1\n",
    "    # print(rowcount)\n",
    "    # print(trait)\n",
    "    # for row in range(len(Hipsdf.row.unique())):\n",
    "    #     for col in range(len(Hipsdf.range.unique())):\n",
    "    \n",
    "    if math.isnan(trait):\n",
    "        df[start_row:row_pix+1, start_col:cols_pix+1]=np.nan ####( or 0 if I want to assign zero)\n",
    "        count=count+1\n",
    "        # print(count)\n",
    "    else:\n",
    "        df[start_row:row_pix+1, start_col:cols_pix+1]=trait\n",
    "    # print(df[start_row:row_pix, start_col:cols_pix].shape)\n",
    "    \n",
    "\n",
    "            \n",
    "    start_col=cols_pix\n",
    "    cols_pix+=22\n",
    "    # print(cols_pix)\n",
    "    \n",
    "    if cols_pix==(stop+22):\n",
    "        start_row=row_pix\n",
    "        row_pix+=11\n",
    "        start_col=0\n",
    "        cols_pix=22\n",
    "    n+=1\n",
    "    \n",
    "    # print(start_row, row_pix, start_col, cols_pix)\n",
    "            \n",
    "# print(count)\n",
    "# plt.imshow(df)\n",
    "# plt.savefig('out.png', bbox_inches='tight', pad_inches=0)\n",
    "plt.axis('off')\n",
    "# plt.figure(figsize=(10,5))\n",
    "ax=plt.imshow(df,interpolation='nearest', cmap=\"inferno\")\n",
    "colorbar = plt.colorbar(shrink=0.5)\n",
    "# mask=np.isnan(df)\n",
    "# heatmap=sns.heatmap(df, yticklabels=False, xticklabels=False, center=True)\n",
    "plt.savefig('Lincoln_all.png', dpi=300, bbox_inches='tight', pad_inches=0)"
   ]
  },
  {
   "cell_type": "code",
   "execution_count": 233,
   "id": "5577b005-8d10-4a4c-a12d-bf5e8076645f",
   "metadata": {
    "tags": []
   },
   "outputs": [
    {
     "name": "stdout",
     "output_type": "stream",
     "text": [
      "13\n"
     ]
    },
    {
     "data": {
      "text/plain": [
       "<matplotlib.image.AxesImage at 0x7f0e14604e10>"
      ]
     },
     "execution_count": 233,
     "metadata": {},
     "output_type": "execute_result"
    },
    {
     "data": {
      "image/png": "[encoded data removed]",
      "text/plain": [
       "<Figure size 640x480 with 1 Axes>"
      ]
     },
     "metadata": {},
     "output_type": "display_data"
    }
   ],
   "source": [
    "##########################Very first codde written#########################33\n",
    "\n",
    "\n",
    "df = np.zeros((660,66))\n",
    "\n",
    "start_col=0\n",
    "start_row=0\n",
    "\n",
    "cols_pix=11\n",
    "row_pix=22\n",
    "\n",
    "n=0\n",
    "count=0\n",
    "for trait in Hipsdf.yieldPerAcre.values:\n",
    "    # print(trait)\n",
    "    # for row in range(len(Hipsdf.row.unique())):\n",
    "    #     for col in range(len(Hipsdf.range.unique())):\n",
    "    \n",
    "    if math.isnan(trait):\n",
    "        df[start_row:row_pix+1, start_col:cols_pix+1]=0\n",
    "        count=count+1\n",
    "        # print(count)\n",
    "    else:\n",
    "        df[start_row:row_pix+1, start_col:cols_pix+1]=trait\n",
    "    # print(df[start_row:row_pix, start_col:cols_pix].shape)\n",
    "    \n",
    "\n",
    "            \n",
    "    start_col=cols_pix\n",
    "    cols_pix+=11\n",
    "    # print(cols_pix)\n",
    "    \n",
    "    if cols_pix==77:\n",
    "        start_row=row_pix\n",
    "        row_pix+=22\n",
    "        start_col=0\n",
    "        cols_pix=11\n",
    "    n+=1\n",
    "    \n",
    "    # print(start_row, row_pix, start_col, cols_pix)\n",
    "            \n",
    "print(count)\n",
    "# plt.imshow(df)\n",
    "# plt.savefig('out.png', bbox_inches='tight', pad_inches=0)\n",
    "\n",
    "plt.axis('off')\n",
    "plt.imshow(df,interpolation='nearest', cmap=\"inferno\")\n",
    "# plt.savefig('Crawfordsville_LC_4352.png', dpi=300, bbox_inches='tight', pad_inches=0)"
   ]
  },
  {
   "cell_type": "code",
   "execution_count": 40,
   "id": "ad27d058-efe0-481f-848c-754ab03d043d",
   "metadata": {
    "tags": []
   },
   "outputs": [
    {
     "data": {
      "text/plain": [
       "<Axes: >"
      ]
     },
     "execution_count": 40,
     "metadata": {},
     "output_type": "execute_result"
    },
    {
     "data": {
      "image/png": "[encoded data removed]",
      "text/plain": [
       "<Figure size 640x480 with 2 Axes>"
      ]
     },
     "metadata": {},
     "output_type": "display_data"
    }
   ],
   "source": [
    "\n",
    "\n",
    "sns.heatmap(df, yticklabels=False, xticklabels=False)"
   ]
  },
  {
   "cell_type": "code",
   "execution_count": 36,
   "id": "b55f50aa-e69d-4263-8128-1f1f8ba510a7",
   "metadata": {
    "tags": []
   },
   "outputs": [
    {
     "data": {
      "text/plain": [
       "<matplotlib.image.AxesImage at 0x7f9ce93dfa10>"
      ]
     },
     "execution_count": 36,
     "metadata": {},
     "output_type": "execute_result"
    },
    {
     "data": {
      "image/png": "[encoded data removed]",
      "text/plain": [
       "<Figure size 640x480 with 1 Axes>"
      ]
     },
     "metadata": {},
     "output_type": "display_data"
    }
   ],
   "source": [
    "plt.axis('off')\n",
    "plt.imshow(df,interpolation='nearest', cmap=\"inferno\")\n",
    "# plt.savefig('Crawfordsville_mediumNitrogen.png', dpi=300, bbox_inches='tight', pad_inches=0)"
   ]
  },
  {
   "cell_type": "code",
   "execution_count": 19,
   "id": "5a421b1a-18c8-4114-b1a4-ea0527eb113c",
   "metadata": {
    "tags": []
   },
   "outputs": [],
   "source": [
    "Dataframe=pd.DataFrame(df)\n",
    "Dataframe.to_csv(\"yieldmap.csv\", index=False)"
   ]
  },
  {
   "cell_type": "code",
   "execution_count": 49,
   "id": "4e5cb1b4-591f-4a80-889b-fa907f2137ad",
   "metadata": {
    "tags": []
   },
   "outputs": [],
   "source": [
    "# height, width = 22, 11\n",
    "# df = pd.DataFrame(index=range(1, height + 1), columns=range(1, width + 1))\n",
    "\n",
    "# for i in ranges:\n",
    "#     for j in rows:\n",
    "#         for index, rownum in Hipsdf.iterrows():\n",
    "#             if rownum[\"row\"] == j and rownum[\"range\"] == i:\n",
    "#                 # Calculate the appropriate index in the DataFrame based on j and i\n",
    "#                 row_index = (j - 1) * height + 1\n",
    "#                 col_index = (i - 1) * width + 1\n",
    "#                 print(f\"Processing row {j}, range {i}, row_index {row_index}, col_index {col_index}\")\n",
    "\n",
    "#                 # Populate the values in the DataFrame for the specified range and row\n",
    "#                 for h in range(row_index, row_index + height):\n",
    "#                     for w in range(col_index, col_index + width):\n",
    "#                         print(f\"  Setting value for cell ({h}, {w})\")\n",
    "#                         df.loc[h, w] = rownum[\"yieldPerAcre\"]\n",
    "\n",
    "# # Print the resulting DataFrame\n",
    "# print(df)\n"
   ]
  }
 ],
 "metadata": {
  "kernelspec": {
   "display_name": "Python 3 (ipykernel)",
   "language": "python",
   "name": "python3"
  },
  "language_info": {
   "codemirror_mode": {
    "name": "ipython",
    "version": 3
   },
   "file_extension": ".py",
   "mimetype": "text/x-python",
   "name": "python",
   "nbconvert_exporter": "python",
   "pygments_lexer": "ipython3",
   "version": "3.11.4"
  }
 },
 "nbformat": 4,
 "nbformat_minor": 5
}
