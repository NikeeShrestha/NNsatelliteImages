{
 "cells": [
  {
   "cell_type": "code",
   "execution_count": 1,
   "id": "7ad61ebf-65ca-4699-956e-b282e901ae46",
   "metadata": {
    "tags": []
   },
   "outputs": [],
   "source": [
    "import rasterio\n",
    "from osgeo import gdal, ogr\n",
    "from PIL import Image\n",
    "import cv2 as cv\n",
    "import glob\n",
    "import os\n",
    "import sys\n",
    "import pandas as pd\n",
    "import matplotlib.pyplot as plt\n",
    "from sklearn.decomposition import PCA\n",
    "import numpy as np\n",
    "from sklearn.metrics import r2_score\n",
    "from scipy.stats import pearsonr\n",
    "import random"
   ]
  },
  {
   "cell_type": "code",
   "execution_count": 56,
   "id": "f056bd28-2e90-46ec-96e5-bdd7564e80f7",
   "metadata": {
    "tags": []
   },
   "outputs": [],
   "source": [
    "# SatelliteImagecropping\n",
    "\n",
    "def multibandimagecrop(inputpath, crop_width, crop_height, outputpath):\n",
    "    all_files=glob.glob(os.path.join(inputpath, '*.TIF'))\n",
    "    print(len(all_files))\n",
    "    for file in all_files:\n",
    "        with rasterio.open(file, 'r') as src:\n",
    "            print(src.shape)\n",
    "            \n",
    "            if src.height > src.width:\n",
    "                xmin, xmax = 0, src.width - crop_width\n",
    "                ymin, ymax = 0, src.height - crop_height\n",
    "                xoff, yoff = random.randint(xmin, xmax), random.randint(ymin, ymax)\n",
    "                window =  rasterio.windows.Window(xoff, yoff, crop_height, crop_width)\n",
    "                \n",
    "                transform = src.window_transform(window)\n",
    "            \n",
    "                profile = src.profile\n",
    "                profile.update({\n",
    "                    'height': crop_height,\n",
    "                    'width': crop_width,\n",
    "                    'transform': transform})\n",
    "            elif src.width > src.height:\n",
    "                # print(src.shape)\n",
    "                height=crop_width\n",
    "                width=crop_height\n",
    "                # crop_height=width\n",
    "                # print(crop_height,crop_width)\n",
    "                xmin, xmax = 0, src.width - width\n",
    "                ymin, ymax = 0, src.height - height\n",
    "                xoff, yoff = random.randint(ymin, ymax), random.randint(xmin, xmax)\n",
    "                window =  rasterio.windows.Window(xoff, yoff, height, width)\n",
    "                \n",
    "                transform = src.window_transform(window)\n",
    "            \n",
    "                profile = src.profile\n",
    "                profile.update({\n",
    "                    'height': height,\n",
    "                    'width': width,\n",
    "                    'transform': transform})\n",
    "                # print(src.shape)\n",
    "                    \n",
    "            output_file = os.path.join(outputpath, f'{os.path.splitext(os.path.basename(file))[0]}.TIF')\n",
    "            \n",
    "            with rasterio.open(output_file, 'w', **profile) as dst:\n",
    "                # Read the data from the window and write it to the output raster\n",
    "                dst.write(src.read(window=window))\n",
    "                # dst.fill.fillnodata()\n",
    "                print(dst.shape)\n",
    "            \n",
    "            # print(org_width, org_height)"
   ]
  },
  {
   "cell_type": "code",
   "execution_count": 50,
   "id": "97bde1b9-a9a0-4740-a215-81752ed9f510",
   "metadata": {
    "tags": []
   },
   "outputs": [],
   "source": [
    "# SatelliteImagecropping\n",
    "\n",
    "def threebandsatelliteimagecrop(inputpath, crop_width, crop_height, outputpath):\n",
    "    all_files=glob.glob(os.path.join(inputpath, '*.PNG'))\n",
    "    print(len(all_files))\n",
    "    for file in all_files:\n",
    "        img=cv.imread(file)\n",
    "        print(img.shape)\n",
    "        if img.shape[0]>img.shape[1]:\n",
    "            print(\"thisrout\")\n",
    "            height=crop_height\n",
    "            width=crop_width\n",
    "            img=img[2:height,2:width]\n",
    "        elif img.shape[0]<img.shape[1]:\n",
    "            print(\"thisroute\")\n",
    "            height=crop_width\n",
    "            width=crop_height\n",
    "            img=img[2:height,2:width]\n",
    "            \n",
    "                    \n",
    "        output_file = os.path.join(outputpath, f'{os.path.splitext(os.path.basename(file))[0]}.PNG')\n",
    "        print(img.shape)\n",
    "        cv.imwrite(output_file, img)"
   ]
  },
  {
   "cell_type": "code",
   "execution_count": 58,
   "id": "72fc8112-b562-470c-8bff-22303ee89e6e",
   "metadata": {
    "tags": []
   },
   "outputs": [],
   "source": [
    "# UavImagecropping\n",
    "\n",
    "def threebanduavimagecrop(inputpath, crop_width, crop_height, outputpath):\n",
    "    all_files=glob.glob(os.path.join(inputpath, '*.PNG'))\n",
    "    print(len(all_files))\n",
    "    for file in all_files:\n",
    "        img=cv.imread(file)\n",
    "        print(img.shape)\n",
    "        if img.shape[0]>img.shape[1]:\n",
    "            print(\"thisrout\")\n",
    "            height=crop_height\n",
    "            width=crop_width\n",
    "            img=img[100:height,1:width]\n",
    "        elif img.shape[0]<img.shape[1]:\n",
    "            print(\"thisroute\")\n",
    "            height=crop_width\n",
    "            width=crop_height\n",
    "            img=img[100:height,100:width]\n",
    "            \n",
    "                    \n",
    "        output_file = os.path.join(outputpath, f'{os.path.splitext(os.path.basename(file))[0]}.PNG')\n",
    "        print(img.shape)\n",
    "        cv.imwrite(output_file, img)"
   ]
  },
  {
   "cell_type": "code",
   "execution_count": 52,
   "id": "d8229a64-a9cb-4c69-b5d6-a3453e62dc80",
   "metadata": {
    "tags": []
   },
   "outputs": [],
   "source": [
    "# threebandsatelliteimagecrop(inputpath=\"/home/schnablelab/Documents/ImageDataset/RGB_satellite/Crawfordsville/Hybrids/TP6\", crop_width=10, crop_height=20,outputpath=\"/home/schnablelab/Documents/ImageDataset/RGB_satellite/Crawfordsville/Hybrids/CroppedTP6\")"
   ]
  },
  {
   "cell_type": "code",
   "execution_count": 59,
   "id": "9e8a73e8-0b4a-46fc-8ef9-817732025f70",
   "metadata": {
    "tags": []
   },
   "outputs": [],
   "source": [
    "# multibandimagecrop(inputpath=\"/home/schnablelab/Documents/ImageDataset/SixBndImages/Crawfordsville/Hybrids/TP6\",crop_width=10, crop_height=20,outputpath=\"/home/schnablelab/Documents/ImageDataset/SixBndImages/Crawfordsville/Hybrids/CroppedTP6\")"
   ]
  },
  {
   "cell_type": "code",
   "execution_count": 40,
   "id": "23012241-8e87-4a9e-a1b4-1d905498a985",
   "metadata": {
    "tags": []
   },
   "outputs": [],
   "source": [
    "# threebanduavimagecrop(inputpath=\"/home/schnablelab/Documents/ImageDataset/RGB_UAV/Crawfordsville/Hybrids/TP3\", crop_width=321, crop_height=821,outputpath=\"/home/schnablelab/Documents/ImageDataset/RGB_UAV/Crawfordsville/Hybrids/CroppedTP3\")"
   ]
  }
 ],
 "metadata": {
  "kernelspec": {
   "display_name": "Python 3 (ipykernel)",
   "language": "python",
   "name": "python3"
  },
  "language_info": {
   "codemirror_mode": {
    "name": "ipython",
    "version": 3
   },
   "file_extension": ".py",
   "mimetype": "text/x-python",
   "name": "python",
   "nbconvert_exporter": "python",
   "pygments_lexer": "ipython3",
   "version": "3.11.4"
  }
 },
 "nbformat": 4,
 "nbformat_minor": 5
}
