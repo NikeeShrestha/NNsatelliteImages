{
 "cells": [
  {
   "cell_type": "code",
   "execution_count": 1,
   "id": "bf049df1-4f6f-4b1c-ad0a-57741dd1253a",
   "metadata": {
    "tags": []
   },
   "outputs": [],
   "source": [
    "import cv2 as cv\n",
    "import glob\n",
    "import os\n",
    "import sys\n",
    "import pandas as pd\n",
    "import matplotlib.pyplot as plt\n",
    "from sklearn.decomposition import PCA\n",
    "import numpy as np\n",
    "from scipy.stats import pearsonr\n",
    "import statistics\n",
    "import re\n",
    "import tqdm"
   ]
  },
  {
   "cell_type": "code",
   "execution_count": 88,
   "id": "63060630-f8e2-43bc-b7a2-8c9188c1713b",
   "metadata": {
    "tags": []
   },
   "outputs": [],
   "source": [
    "df=pd.read_csv('AllTestCorrelation_uav.csv')"
   ]
  },
  {
   "cell_type": "code",
   "execution_count": 82,
   "id": "08dbe461-feb5-4533-b6ec-88c2190ea906",
   "metadata": {
    "tags": []
   },
   "outputs": [],
   "source": [
    "# from dplython import X, group_by, summarize, DplyFrame\n",
    "# df_trial = DplyFrame(trial)"
   ]
  },
  {
   "cell_type": "code",
   "execution_count": 89,
   "id": "c421994e-8a45-43b0-a69b-45c1fb8d4e33",
   "metadata": {
    "tags": []
   },
   "outputs": [
    {
     "data": {
      "text/html": [
       "<div>\n",
       "<style scoped>\n",
       "    .dataframe tbody tr th:only-of-type {\n",
       "        vertical-align: middle;\n",
       "    }\n",
       "\n",
       "    .dataframe tbody tr th {\n",
       "        vertical-align: top;\n",
       "    }\n",
       "\n",
       "    .dataframe thead th {\n",
       "        text-align: right;\n",
       "    }\n",
       "</style>\n",
       "<table border=\"1\" class=\"dataframe\">\n",
       "  <thead>\n",
       "    <tr style=\"text-align: right;\">\n",
       "      <th></th>\n",
       "      <th>r2</th>\n",
       "    </tr>\n",
       "  </thead>\n",
       "  <tbody>\n",
       "    <tr>\n",
       "      <th>count</th>\n",
       "      <td>15.000000</td>\n",
       "    </tr>\n",
       "    <tr>\n",
       "      <th>mean</th>\n",
       "      <td>0.472106</td>\n",
       "    </tr>\n",
       "    <tr>\n",
       "      <th>std</th>\n",
       "      <td>0.111526</td>\n",
       "    </tr>\n",
       "    <tr>\n",
       "      <th>min</th>\n",
       "      <td>0.255220</td>\n",
       "    </tr>\n",
       "    <tr>\n",
       "      <th>25%</th>\n",
       "      <td>0.404640</td>\n",
       "    </tr>\n",
       "    <tr>\n",
       "      <th>50%</th>\n",
       "      <td>0.502240</td>\n",
       "    </tr>\n",
       "    <tr>\n",
       "      <th>75%</th>\n",
       "      <td>0.550235</td>\n",
       "    </tr>\n",
       "    <tr>\n",
       "      <th>max</th>\n",
       "      <td>0.640080</td>\n",
       "    </tr>\n",
       "  </tbody>\n",
       "</table>\n",
       "</div>"
      ],
      "text/plain": [
       "              r2\n",
       "count  15.000000\n",
       "mean    0.472106\n",
       "std     0.111526\n",
       "min     0.255220\n",
       "25%     0.404640\n",
       "50%     0.502240\n",
       "75%     0.550235\n",
       "max     0.640080"
      ]
     },
     "execution_count": 89,
     "metadata": {},
     "output_type": "execute_result"
    }
   ],
   "source": [
    "df_dropped_1=df.loc[df.model==df.testset,]\n",
    "df_dropped_1.describe()"
   ]
  },
  {
   "cell_type": "code",
   "execution_count": 84,
   "id": "bb1ad744-feb2-4889-b514-5bcb2674cebd",
   "metadata": {
    "tags": []
   },
   "outputs": [],
   "source": [
    "def check_pattern(row):\n",
    "    model_pattern = row['model'].split('_')[0]  # Get the pattern before underscore in 'model' column\n",
    "    test_pattern = row['testset'].split('_')[0]  # Get the pattern before underscore in 'testcolumn'\n",
    "    return model_pattern == test_pattern\n",
    "\n",
    "def check_false_pattern(row):\n",
    "    model_pattern = row['model'].split('_')[0]  # Get the pattern before underscore in 'model' column\n",
    "    test_pattern = row['testset'].split('_')[0]  # Get the pattern before underscore in 'testcolumn'\n",
    "    return model_pattern != test_pattern \n",
    "# Apply the function to each row and filter rows accordingly\n",
    "\n",
    "rowstodrop=df_dropped_1.index\n",
    "df_dropped_2=df.drop(index=rowstodrop, axis=0)\n",
    "df_dropped_2= df_dropped_2.loc[df_dropped_2.apply(check_pattern, axis=1)]"
   ]
  },
  {
   "cell_type": "code",
   "execution_count": 85,
   "id": "702f44e7-f50a-497a-88e7-de1ba5463bb2",
   "metadata": {
    "tags": []
   },
   "outputs": [
    {
     "data": {
      "text/html": [
       "<div>\n",
       "<style scoped>\n",
       "    .dataframe tbody tr th:only-of-type {\n",
       "        vertical-align: middle;\n",
       "    }\n",
       "\n",
       "    .dataframe tbody tr th {\n",
       "        vertical-align: top;\n",
       "    }\n",
       "\n",
       "    .dataframe thead th {\n",
       "        text-align: right;\n",
       "    }\n",
       "</style>\n",
       "<table border=\"1\" class=\"dataframe\">\n",
       "  <thead>\n",
       "    <tr style=\"text-align: right;\">\n",
       "      <th></th>\n",
       "      <th>r2</th>\n",
       "    </tr>\n",
       "  </thead>\n",
       "  <tbody>\n",
       "    <tr>\n",
       "      <th>count</th>\n",
       "      <td>90.000000</td>\n",
       "    </tr>\n",
       "    <tr>\n",
       "      <th>mean</th>\n",
       "      <td>0.066583</td>\n",
       "    </tr>\n",
       "    <tr>\n",
       "      <th>std</th>\n",
       "      <td>0.082309</td>\n",
       "    </tr>\n",
       "    <tr>\n",
       "      <th>min</th>\n",
       "      <td>0.000150</td>\n",
       "    </tr>\n",
       "    <tr>\n",
       "      <th>25%</th>\n",
       "      <td>0.007253</td>\n",
       "    </tr>\n",
       "    <tr>\n",
       "      <th>50%</th>\n",
       "      <td>0.025285</td>\n",
       "    </tr>\n",
       "    <tr>\n",
       "      <th>75%</th>\n",
       "      <td>0.111620</td>\n",
       "    </tr>\n",
       "    <tr>\n",
       "      <th>max</th>\n",
       "      <td>0.410510</td>\n",
       "    </tr>\n",
       "  </tbody>\n",
       "</table>\n",
       "</div>"
      ],
      "text/plain": [
       "              r2\n",
       "count  90.000000\n",
       "mean    0.066583\n",
       "std     0.082309\n",
       "min     0.000150\n",
       "25%     0.007253\n",
       "50%     0.025285\n",
       "75%     0.111620\n",
       "max     0.410510"
      ]
     },
     "execution_count": 85,
     "metadata": {},
     "output_type": "execute_result"
    }
   ],
   "source": [
    "df_dropped_2.describe()"
   ]
  },
  {
   "cell_type": "code",
   "execution_count": 86,
   "id": "2f889947-a6d2-482d-b35f-464d60cf133d",
   "metadata": {
    "tags": []
   },
   "outputs": [],
   "source": [
    "rows_to_drop = df[df['model'] == df['testset']].index\n",
    "\n",
    "# Drop rows\n",
    "df_dropped = df.drop(index=rows_to_drop)\n",
    "\n",
    "rowstodrop = df_dropped_2.index\n",
    "\n",
    "df_dropped_3= df_dropped.drop(index=rowstodrop)\n"
   ]
  },
  {
   "cell_type": "code",
   "execution_count": 87,
   "id": "2da76f1c-5f20-495b-8ad0-cd0a22e63fe1",
   "metadata": {
    "tags": []
   },
   "outputs": [
    {
     "data": {
      "text/html": [
       "<div>\n",
       "<style scoped>\n",
       "    .dataframe tbody tr th:only-of-type {\n",
       "        vertical-align: middle;\n",
       "    }\n",
       "\n",
       "    .dataframe tbody tr th {\n",
       "        vertical-align: top;\n",
       "    }\n",
       "\n",
       "    .dataframe thead th {\n",
       "        text-align: right;\n",
       "    }\n",
       "</style>\n",
       "<table border=\"1\" class=\"dataframe\">\n",
       "  <thead>\n",
       "    <tr style=\"text-align: right;\">\n",
       "      <th></th>\n",
       "      <th>r2</th>\n",
       "    </tr>\n",
       "  </thead>\n",
       "  <tbody>\n",
       "    <tr>\n",
       "      <th>count</th>\n",
       "      <td>216.000000</td>\n",
       "    </tr>\n",
       "    <tr>\n",
       "      <th>mean</th>\n",
       "      <td>0.018481</td>\n",
       "    </tr>\n",
       "    <tr>\n",
       "      <th>std</th>\n",
       "      <td>0.042061</td>\n",
       "    </tr>\n",
       "    <tr>\n",
       "      <th>min</th>\n",
       "      <td>0.000000</td>\n",
       "    </tr>\n",
       "    <tr>\n",
       "      <th>25%</th>\n",
       "      <td>0.000760</td>\n",
       "    </tr>\n",
       "    <tr>\n",
       "      <th>50%</th>\n",
       "      <td>0.004880</td>\n",
       "    </tr>\n",
       "    <tr>\n",
       "      <th>75%</th>\n",
       "      <td>0.015055</td>\n",
       "    </tr>\n",
       "    <tr>\n",
       "      <th>max</th>\n",
       "      <td>0.333890</td>\n",
       "    </tr>\n",
       "  </tbody>\n",
       "</table>\n",
       "</div>"
      ],
      "text/plain": [
       "               r2\n",
       "count  216.000000\n",
       "mean     0.018481\n",
       "std      0.042061\n",
       "min      0.000000\n",
       "25%      0.000760\n",
       "50%      0.004880\n",
       "75%      0.015055\n",
       "max      0.333890"
      ]
     },
     "execution_count": 87,
     "metadata": {},
     "output_type": "execute_result"
    }
   ],
   "source": [
    "df_dropped_3.describe()"
   ]
  },
  {
   "cell_type": "code",
   "execution_count": 91,
   "id": "c2b9d5eb-fc7e-4690-944e-c570db4fda8d",
   "metadata": {
    "tags": []
   },
   "outputs": [
    {
     "data": {
      "text/plain": [
       "0.07"
      ]
     },
     "execution_count": 91,
     "metadata": {},
     "output_type": "execute_result"
    }
   ],
   "source": [
    "0.48-0.41"
   ]
  }
 ],
 "metadata": {
  "kernelspec": {
   "display_name": "Python 3 (ipykernel)",
   "language": "python",
   "name": "python3"
  },
  "language_info": {
   "codemirror_mode": {
    "name": "ipython",
    "version": 3
   },
   "file_extension": ".py",
   "mimetype": "text/x-python",
   "name": "python",
   "nbconvert_exporter": "python",
   "pygments_lexer": "ipython3",
   "version": "3.11.4"
  }
 },
 "nbformat": 4,
 "nbformat_minor": 5
}
